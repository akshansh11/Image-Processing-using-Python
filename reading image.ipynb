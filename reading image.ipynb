# -*- coding: utf-8 -*-
"""
Created on Sat May  8 20:55:46 2021

@author: AKSHANSH MISHRA
"""

#Using Pillow Library
# pip install pillow
from PIL import Image

img=Image.open("F:/Microstructure/brass.jpg")
print(type(img))
img.show()
print(img.format)
import numpy as np
#Converting image to array type
img1=np.asarray(img)
print(type(img1))

####################################################################

#MATPLOT LIB PACKAGE

#pip install matplotlib

import matplotlib.image as mimage
import matplotlib.pyplot as plt
img=mimage.imread("F:/Microstructure/brass.jpg")
#print(type(img))
#print(img.shape)
plt.imshow(img)
plt.colorbar()

##########################################################################

#sci-kit learn

#pip install scikit-image
from skimage import io
img2=io.imread("F:/Microstructure/brass.jpg")
#print(type(img2))
import matplotlib.image as mimage
import matplotlib.pyplot as plt
#plt.imshow(img2)
print(img2)


#######################################################################


    

